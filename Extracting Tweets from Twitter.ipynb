{
 "cells": [
  {
   "cell_type": "markdown",
   "metadata": {},
   "source": [
    "# Extracting Tweets using Tweepy"
   ]
  },
  {
   "cell_type": "markdown",
   "metadata": {},
   "source": [
    "Load the libraries"
   ]
  },
  {
   "cell_type": "code",
   "execution_count": null,
   "metadata": {},
   "outputs": [],
   "source": [
    "import pandas as pd\n",
    "import tweepy\n",
    "#API Keys\n",
    "consumer_key = \"K9S5RNgEPVuErqud8X3y1ukid\"\n",
    "consumer_secret = \"yj0xmufjg5SX6pTVS0FBmrvzS9c2EqX5ap3b2vShTJ2OMsDSI3\"\n",
    "access_token = \"431623383-Fk4cDQcuBBBo1vSKc7xROM77hmQs2YFCrM2Puzls\"\n",
    "access_token_secret = \"0ZgUTrH7QnSKHxHnVDYJa32uEreOqVkI8E8xcWCAy4Qnf\""
   ]
  },
  {
   "cell_type": "markdown",
   "metadata": {},
   "source": [
    "Next, Create an API Object"
   ]
  },
  {
   "cell_type": "code",
   "execution_count": null,
   "metadata": {},
   "outputs": [],
   "source": [
    "# Creating the authentication object\n",
    "auth = tweepy.OAuthHandler(consumer_key, consumer_secret)\n",
    "# Setting your access token and secret\n",
    "auth.set_access_token(access_token, access_token_secret)\n",
    "# Creating the API object while passing in auth information\n",
    "api = tweepy.API(auth) "
   ]
  },
  {
   "cell_type": "markdown",
   "metadata": {},
   "source": [
    "### Finding Tweets with Keyword or UserID\n",
    "\n",
    "We want to see how \"Data Science Central\" (keyword) is being mentioned on Twitter.\n",
    "\n",
    "This can be extremely useful if you want to: \n",
    "1. Monitor specifically mentioned topics in the Twitter world.\n",
    "2. Observe how your business is getting mentioned on social media. \n",
    "3. Run sentiment analysis on tweets to see if the overall opinion of your company is positive or negative."
   ]
  },
  {
   "cell_type": "code",
   "execution_count": null,
   "metadata": {},
   "outputs": [],
   "source": [
    "# Creating the API object while passing in auth information\n",
    "api = tweepy.API(auth, wait_on_rate_limit=True)\n",
    "\n",
    "# The search term you want to find\n",
    "query = \"@DataScienceCtrl\" # OR try \"Data Science Central\" OR \"#DataScienceCentral\"\n",
    "# Language code (follows ISO 639-1 standards)\n",
    "language = \"en\"\n",
    "# Number of Tweets\n",
    "maxTweets = 200\n",
    "\n",
    "#Create a Dictionary\n",
    "dict_ = {'ID':[],'User':[], 'Created_At':[], 'Tweet_Text':[],'Favorite_Count':[], 'Retweet_Count':[], 'Source':[]}\n",
    "\n",
    "# Iterate through all tweets containing the given word, api search mode\n",
    "for tweet in tweepy.Cursor(api.search, q=query, lang=language, tweet_mode='extended').items(maxTweets):\n",
    "    # Add tweets in this format\n",
    "    dict_['ID'].append(tweet.user.screen_name)\n",
    "    dict_['User'].append(tweet.user.name)\n",
    "    dict_['Created_At'].append(tweet.created_at)\n",
    "    dict_['Tweet_Text'].append(tweet.full_text) #dict_['Tweet_Text'].append(tweet.text)\n",
    "    dict_['Favorite_Count'].append(tweet.favorite_count)\n",
    "    dict_['Retweet_Count'].append(tweet.retweet_count)\n",
    "    dict_['Source'].append(tweet.source_url)\n",
    "    \n",
    "#Structure data in pandas Dataframe\n",
    "df = pd.DataFrame(dict_)\n",
    "df.shape\n"
   ]
  },
  {
   "cell_type": "code",
   "execution_count": null,
   "metadata": {},
   "outputs": [],
   "source": [
    "df.head()"
   ]
  },
  {
   "cell_type": "code",
   "execution_count": null,
   "metadata": {},
   "outputs": [],
   "source": [
    "#write as csv\n",
    "df.to_csv('result_tweetpull.csv', sep=',')"
   ]
  },
  {
   "cell_type": "markdown",
   "metadata": {},
   "source": [
    "### Follower Count of a User\n",
    "\n",
    "This allows you to extract follower details of the User of interest:"
   ]
  },
  {
   "cell_type": "code",
   "execution_count": null,
   "metadata": {},
   "outputs": [],
   "source": [
    "# Get the User object for twitter...\n",
    "user = api.get_user('DataScienceCtrl')\n",
    "\n",
    "#Print User Screen name and Follower Count\n",
    "print(\"Screen Name: \", user.screen_name)\n",
    "print(\"Follower Count: \", user.followers_count)\n",
    "print(\"Friends Count: \", user.friends_count)\n",
    "#Print names of Friends of the User\n",
    "print(\"Names of Followers:\")\n",
    "print(\"------------------\")"
   ]
  },
  {
   "cell_type": "code",
   "execution_count": null,
   "metadata": {},
   "outputs": [],
   "source": [
    "dict_ = {'User':[]}\n",
    "dict2_ = {'User':[]}\n",
    "\n",
    "for follower in user.followers():\n",
    "    dict_['User'].append(follower.screen_name)\n",
    "    #print(friend.screen_name)\n",
    "\n",
    "#People Suncoast is following\n",
    "for friend in user.friends():\n",
    "    dict2_['User'].append(friend.screen_name)\n",
    "    #print(follow.screen_name)"
   ]
  }
 ],
 "metadata": {
  "kernelspec": {
   "display_name": "Python 3",
   "language": "python",
   "name": "python3"
  },
  "language_info": {
   "codemirror_mode": {
    "name": "ipython",
    "version": 3
   },
   "file_extension": ".py",
   "mimetype": "text/x-python",
   "name": "python",
   "nbconvert_exporter": "python",
   "pygments_lexer": "ipython3",
   "version": "3.6.4"
  }
 },
 "nbformat": 4,
 "nbformat_minor": 2
}
